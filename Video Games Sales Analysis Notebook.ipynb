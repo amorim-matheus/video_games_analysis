{
 "cells": [
  {
   "cell_type": "markdown",
   "metadata": {},
   "source": [
    "<h1 style='margin:0'> Video Game Sales Analysis - Battle of the Titans</h1>"
   ]
  },
  {
   "cell_type": "markdown",
   "metadata": {},
   "source": [
    "<p style='margin:0;font-size:1.92rem;padding:.5vh 0;line-height:2.88rem'>\n",
    "    In this notebook, I will analyse historical sales from different video games and different platforms.\n",
    "</p>\n",
    "<p style='margin:0;font-size:1.92rem;padding:.5vh 0;line-height:2.88rem'>\n",
    "    To conduct this analysis, I will use <a href='https://www.kaggle.com/gregorut/videogamesales'>Kaggle data</a> and the CRISP-DM process, which consists of:\n",
    "</p>\n",
    "<div style='margin:0;font-size:1.92rem;padding:.5vh 0;line-height:2.88rem'>\n",
    "    <ol style='margin:0;font-size:1.92rem;line-height:2.88rem'>\n",
    "        <li>\n",
    "            <a href='#bu'><b>Busines Understanding</b></a> - understand what the business is about and what are the business problems or gaps to then <b>draw interesting/relevant questions</b>\n",
    "        </li>\n",
    "        <li>\n",
    "            <a href='#du'><b>Data Understanding</b></a> - Take a broad look at the data to see which of the questions drawn above could be answered with the data\n",
    "        </li>\n",
    "        <div style='margin:0;font-size:1.92rem;padding:.5vh 0;line-height:2.88rem'>\n",
    "            <ul>\n",
    "                <li>\n",
    "                    In my case, I will invert these steps, first looking at the data and then drawing interesting questions to be answered with the data\n",
    "                </li>\n",
    "            </ul>\n",
    "        </div>\n",
    "        <li>\n",
    "            <a href=\"#dp\"><b>Data Preparation</b></a> - Also known as <i>data wrangling</i>, will look for and clean these errors in the data:\n",
    "            <div style='margin:0;font-size:1.92rem;padding:.5vh 0;line-height:2.88rem'>\n",
    "            <ul>\n",
    "                <li>\n",
    "                    <b>Completeness</b> - missing or incomplete data\n",
    "                </li>\n",
    "                <li>\n",
    "                    <b>Validity</b> - data that is not valid (example: the letter \"a\" for sales)\n",
    "                </li>\n",
    "                <li>\n",
    "                    <b>Accuracy</b> - data that is valid, but rather impossible (example: negative number of units sold - it is a number, but it doesn't make sense)\n",
    "                </li>\n",
    "                <li>\n",
    "                    <b>Consistency</b> - data is valid and could be accurate, but it doesn't make sense on the real world (example: positive sales number on a city that doesn't have any store)\n",
    "                </li>\n",
    "            </ul>\n",
    "        </div>\n",
    "        </li>\n",
    "        <li>\n",
    "            <b>Data Evaluation</b> - Here is where the analysis itself is conducted, where I'll be manipulating the data and creating visualizations to answer the questions drawn in step\n",
    "        </li>\n",
    "        <li>\n",
    "            <b>Conclusions and presentation</b>\n",
    "        </li>    \n",
    "    </ol>\n",
    "</div>"
   ]
  },
  {
   "cell_type": "markdown",
   "metadata": {},
   "source": [
    "<p style='margin:0;font-size:1.92rem;padding:.5vh 0;line-height:2.88rem'>\n",
    "    As I mentioned, I'll start with the Data Understanding (step 2 above), doing some basic exploratory analysis to see which variables and data I have on the dataset\n",
    "</p>"
   ]
  },
  {
   "cell_type": "markdown",
   "metadata": {},
   "source": [
    "<a id='du'></a>\n",
    "<h1 style='margin:0'>Data Understanding</h1>"
   ]
  },
  {
   "cell_type": "markdown",
   "metadata": {},
   "source": [
    "<h2 style='margin:0 0 0 30px'>Starting Notebook</h2>"
   ]
  },
  {
   "cell_type": "code",
   "execution_count": 2,
   "metadata": {},
   "outputs": [
    {
     "name": "stderr",
     "output_type": "stream",
     "text": [
      "c:\\users\\amori\\anaconda3\\lib\\site-packages\\numpy\\_distributor_init.py:30: UserWarning: loaded more than 1 DLL from .libs:\n",
      "c:\\users\\amori\\anaconda3\\lib\\site-packages\\numpy\\.libs\\libopenblas.NOIJJG62EMASZI6NYURL6JBKM4EVBGM7.gfortran-win_amd64.dll\n",
      "c:\\users\\amori\\anaconda3\\lib\\site-packages\\numpy\\.libs\\libopenblas.WCDJNK7YVMPZQ2ME2ZZHJJRJ3JIKNDB7.gfortran-win_amd64.dll\n",
      "  warnings.warn(\"loaded more than 1 DLL from .libs:\"\n"
     ]
    },
    {
     "data": {
      "text/html": [
       "<style> .container {width: 92%} </style>"
      ],
      "text/plain": [
       "<IPython.core.display.HTML object>"
      ]
     },
     "metadata": {},
     "output_type": "display_data"
    }
   ],
   "source": [
    "# first will import the necessary libraries, and set some options\n",
    "import pandas as pd\n",
    "import numpy as np\n",
    "import matplotlib.pyplot as plt\n",
    "%matplotlib inline\n",
    "import seaborn as sns\n",
    "import plotly.express as pex\n",
    "import plotly.graph_objects as go\n",
    "from plotly.subplots import make_subplots as ms\n",
    "import re, os, sys, math\n",
    "\n",
    "# set width of notebook to ocupy almost the whole screen\n",
    "from IPython.display import display, HTML\n",
    "display(HTML('<style> .container {width: 92%} </style>'))\n",
    "\n",
    "# set float and integer format display for pandas\n",
    "pd.options.display.float_format = '{:,.4f}'.format\n",
    "class _IntArrayFormatter(pd.io.formats.format.GenericArrayFormatter):\n",
    "\n",
    "    def _format_strings(self):\n",
    "        formatter = self.formatter or (lambda x: ' {:,}'.format(x))\n",
    "        fmt_values = [formatter(x) for x in self.values]\n",
    "        return fmt_values\n",
    "\n",
    "pd.io.formats.format.IntArrayFormatter = _IntArrayFormatter\n",
    "\n",
    "# set amount of rows and columns from a pandas' dataframe to be displayed inside the notebook\n",
    "pd.options.display.max_rows=200\n",
    "pd.options.display.max_columns=200\n",
    "\n",
    "# set jupyter to ignore warnings\n",
    "import warnings\n",
    "warnings.filterwarnings(\"ignore\")"
   ]
  },
  {
   "cell_type": "markdown",
   "metadata": {},
   "source": [
    "<h2 style='margin:0 0 0 30px'>Gathering and First Assessing of Data</h2>"
   ]
  },
  {
   "cell_type": "code",
   "execution_count": 3,
   "metadata": {},
   "outputs": [],
   "source": [
    "# read the data downloaded previously from Kaggle into a pandas' dataframe\n",
    "df = pd.read_csv('vgsales.csv')"
   ]
  },
  {
   "cell_type": "code",
   "execution_count": 4,
   "metadata": {},
   "outputs": [
    {
     "data": {
      "text/html": [
       "<div>\n",
       "<style scoped>\n",
       "    .dataframe tbody tr th:only-of-type {\n",
       "        vertical-align: middle;\n",
       "    }\n",
       "\n",
       "    .dataframe tbody tr th {\n",
       "        vertical-align: top;\n",
       "    }\n",
       "\n",
       "    .dataframe thead th {\n",
       "        text-align: right;\n",
       "    }\n",
       "</style>\n",
       "<table border=\"1\" class=\"dataframe\">\n",
       "  <thead>\n",
       "    <tr style=\"text-align: right;\">\n",
       "      <th></th>\n",
       "      <th>Rank</th>\n",
       "      <th>Name</th>\n",
       "      <th>Platform</th>\n",
       "      <th>Year</th>\n",
       "      <th>Genre</th>\n",
       "      <th>Publisher</th>\n",
       "      <th>NA_Sales</th>\n",
       "      <th>EU_Sales</th>\n",
       "      <th>JP_Sales</th>\n",
       "      <th>Other_Sales</th>\n",
       "      <th>Global_Sales</th>\n",
       "    </tr>\n",
       "  </thead>\n",
       "  <tbody>\n",
       "    <tr>\n",
       "      <th>0</th>\n",
       "      <td>1</td>\n",
       "      <td>Wii Sports</td>\n",
       "      <td>Wii</td>\n",
       "      <td>2,006.0000</td>\n",
       "      <td>Sports</td>\n",
       "      <td>Nintendo</td>\n",
       "      <td>41.4900</td>\n",
       "      <td>29.0200</td>\n",
       "      <td>3.7700</td>\n",
       "      <td>8.4600</td>\n",
       "      <td>82.7400</td>\n",
       "    </tr>\n",
       "    <tr>\n",
       "      <th>1</th>\n",
       "      <td>2</td>\n",
       "      <td>Super Mario Bros.</td>\n",
       "      <td>NES</td>\n",
       "      <td>1,985.0000</td>\n",
       "      <td>Platform</td>\n",
       "      <td>Nintendo</td>\n",
       "      <td>29.0800</td>\n",
       "      <td>3.5800</td>\n",
       "      <td>6.8100</td>\n",
       "      <td>0.7700</td>\n",
       "      <td>40.2400</td>\n",
       "    </tr>\n",
       "    <tr>\n",
       "      <th>2</th>\n",
       "      <td>3</td>\n",
       "      <td>Mario Kart Wii</td>\n",
       "      <td>Wii</td>\n",
       "      <td>2,008.0000</td>\n",
       "      <td>Racing</td>\n",
       "      <td>Nintendo</td>\n",
       "      <td>15.8500</td>\n",
       "      <td>12.8800</td>\n",
       "      <td>3.7900</td>\n",
       "      <td>3.3100</td>\n",
       "      <td>35.8200</td>\n",
       "    </tr>\n",
       "    <tr>\n",
       "      <th>3</th>\n",
       "      <td>4</td>\n",
       "      <td>Wii Sports Resort</td>\n",
       "      <td>Wii</td>\n",
       "      <td>2,009.0000</td>\n",
       "      <td>Sports</td>\n",
       "      <td>Nintendo</td>\n",
       "      <td>15.7500</td>\n",
       "      <td>11.0100</td>\n",
       "      <td>3.2800</td>\n",
       "      <td>2.9600</td>\n",
       "      <td>33.0000</td>\n",
       "    </tr>\n",
       "    <tr>\n",
       "      <th>4</th>\n",
       "      <td>5</td>\n",
       "      <td>Pokemon Red/Pokemon Blue</td>\n",
       "      <td>GB</td>\n",
       "      <td>1,996.0000</td>\n",
       "      <td>Role-Playing</td>\n",
       "      <td>Nintendo</td>\n",
       "      <td>11.2700</td>\n",
       "      <td>8.8900</td>\n",
       "      <td>10.2200</td>\n",
       "      <td>1.0000</td>\n",
       "      <td>31.3700</td>\n",
       "    </tr>\n",
       "  </tbody>\n",
       "</table>\n",
       "</div>"
      ],
      "text/plain": [
       "   Rank                      Name Platform       Year         Genre Publisher  \\\n",
       "0     1                Wii Sports      Wii 2,006.0000        Sports  Nintendo   \n",
       "1     2         Super Mario Bros.      NES 1,985.0000      Platform  Nintendo   \n",
       "2     3            Mario Kart Wii      Wii 2,008.0000        Racing  Nintendo   \n",
       "3     4         Wii Sports Resort      Wii 2,009.0000        Sports  Nintendo   \n",
       "4     5  Pokemon Red/Pokemon Blue       GB 1,996.0000  Role-Playing  Nintendo   \n",
       "\n",
       "   NA_Sales  EU_Sales  JP_Sales  Other_Sales  Global_Sales  \n",
       "0   41.4900   29.0200    3.7700       8.4600       82.7400  \n",
       "1   29.0800    3.5800    6.8100       0.7700       40.2400  \n",
       "2   15.8500   12.8800    3.7900       3.3100       35.8200  \n",
       "3   15.7500   11.0100    3.2800       2.9600       33.0000  \n",
       "4   11.2700    8.8900   10.2200       1.0000       31.3700  "
      ]
     },
     "execution_count": 4,
     "metadata": {},
     "output_type": "execute_result"
    }
   ],
   "source": [
    "# print the head of the dataframe to have a first look at it\n",
    "df.head()"
   ]
  },
  {
   "cell_type": "code",
   "execution_count": 5,
   "metadata": {},
   "outputs": [
    {
     "name": "stdout",
     "output_type": "stream",
     "text": [
      "<class 'pandas.core.frame.DataFrame'>\n",
      "RangeIndex: 16598 entries, 0 to 16597\n",
      "Data columns (total 11 columns):\n",
      " #   Column        Non-Null Count  Dtype  \n",
      "---  ------        --------------  -----  \n",
      " 0   Rank          16598 non-null  int64  \n",
      " 1   Name          16598 non-null  object \n",
      " 2   Platform      16598 non-null  object \n",
      " 3   Year          16327 non-null  float64\n",
      " 4   Genre         16598 non-null  object \n",
      " 5   Publisher     16540 non-null  object \n",
      " 6   NA_Sales      16598 non-null  float64\n",
      " 7   EU_Sales      16598 non-null  float64\n",
      " 8   JP_Sales      16598 non-null  float64\n",
      " 9   Other_Sales   16598 non-null  float64\n",
      " 10  Global_Sales  16598 non-null  float64\n",
      "dtypes: float64(6), int64(1), object(4)\n",
      "memory usage: 1.4+ MB\n"
     ]
    }
   ],
   "source": [
    "# look at the columns' names, types and non missing values count\n",
    "df.info()"
   ]
  },
  {
   "cell_type": "code",
   "execution_count": 6,
   "metadata": {},
   "outputs": [
    {
     "data": {
      "text/html": [
       "<div>\n",
       "<style scoped>\n",
       "    .dataframe tbody tr th:only-of-type {\n",
       "        vertical-align: middle;\n",
       "    }\n",
       "\n",
       "    .dataframe tbody tr th {\n",
       "        vertical-align: top;\n",
       "    }\n",
       "\n",
       "    .dataframe thead th {\n",
       "        text-align: right;\n",
       "    }\n",
       "</style>\n",
       "<table border=\"1\" class=\"dataframe\">\n",
       "  <thead>\n",
       "    <tr style=\"text-align: right;\">\n",
       "      <th></th>\n",
       "      <th>Rank</th>\n",
       "      <th>Year</th>\n",
       "      <th>NA_Sales</th>\n",
       "      <th>EU_Sales</th>\n",
       "      <th>JP_Sales</th>\n",
       "      <th>Other_Sales</th>\n",
       "      <th>Global_Sales</th>\n",
       "    </tr>\n",
       "  </thead>\n",
       "  <tbody>\n",
       "    <tr>\n",
       "      <th>count</th>\n",
       "      <td>16,598.0000</td>\n",
       "      <td>16,327.0000</td>\n",
       "      <td>16,598.0000</td>\n",
       "      <td>16,598.0000</td>\n",
       "      <td>16,598.0000</td>\n",
       "      <td>16,598.0000</td>\n",
       "      <td>16,598.0000</td>\n",
       "    </tr>\n",
       "    <tr>\n",
       "      <th>mean</th>\n",
       "      <td>8,300.6053</td>\n",
       "      <td>2,006.4064</td>\n",
       "      <td>0.2647</td>\n",
       "      <td>0.1467</td>\n",
       "      <td>0.0778</td>\n",
       "      <td>0.0481</td>\n",
       "      <td>0.5374</td>\n",
       "    </tr>\n",
       "    <tr>\n",
       "      <th>std</th>\n",
       "      <td>4,791.8539</td>\n",
       "      <td>5.8290</td>\n",
       "      <td>0.8167</td>\n",
       "      <td>0.5054</td>\n",
       "      <td>0.3093</td>\n",
       "      <td>0.1886</td>\n",
       "      <td>1.5550</td>\n",
       "    </tr>\n",
       "    <tr>\n",
       "      <th>min</th>\n",
       "      <td>1.0000</td>\n",
       "      <td>1,980.0000</td>\n",
       "      <td>0.0000</td>\n",
       "      <td>0.0000</td>\n",
       "      <td>0.0000</td>\n",
       "      <td>0.0000</td>\n",
       "      <td>0.0100</td>\n",
       "    </tr>\n",
       "    <tr>\n",
       "      <th>25%</th>\n",
       "      <td>4,151.2500</td>\n",
       "      <td>2,003.0000</td>\n",
       "      <td>0.0000</td>\n",
       "      <td>0.0000</td>\n",
       "      <td>0.0000</td>\n",
       "      <td>0.0000</td>\n",
       "      <td>0.0600</td>\n",
       "    </tr>\n",
       "    <tr>\n",
       "      <th>50%</th>\n",
       "      <td>8,300.5000</td>\n",
       "      <td>2,007.0000</td>\n",
       "      <td>0.0800</td>\n",
       "      <td>0.0200</td>\n",
       "      <td>0.0000</td>\n",
       "      <td>0.0100</td>\n",
       "      <td>0.1700</td>\n",
       "    </tr>\n",
       "    <tr>\n",
       "      <th>75%</th>\n",
       "      <td>12,449.7500</td>\n",
       "      <td>2,010.0000</td>\n",
       "      <td>0.2400</td>\n",
       "      <td>0.1100</td>\n",
       "      <td>0.0400</td>\n",
       "      <td>0.0400</td>\n",
       "      <td>0.4700</td>\n",
       "    </tr>\n",
       "    <tr>\n",
       "      <th>max</th>\n",
       "      <td>16,600.0000</td>\n",
       "      <td>2,020.0000</td>\n",
       "      <td>41.4900</td>\n",
       "      <td>29.0200</td>\n",
       "      <td>10.2200</td>\n",
       "      <td>10.5700</td>\n",
       "      <td>82.7400</td>\n",
       "    </tr>\n",
       "  </tbody>\n",
       "</table>\n",
       "</div>"
      ],
      "text/plain": [
       "             Rank        Year    NA_Sales    EU_Sales    JP_Sales  \\\n",
       "count 16,598.0000 16,327.0000 16,598.0000 16,598.0000 16,598.0000   \n",
       "mean   8,300.6053  2,006.4064      0.2647      0.1467      0.0778   \n",
       "std    4,791.8539      5.8290      0.8167      0.5054      0.3093   \n",
       "min        1.0000  1,980.0000      0.0000      0.0000      0.0000   \n",
       "25%    4,151.2500  2,003.0000      0.0000      0.0000      0.0000   \n",
       "50%    8,300.5000  2,007.0000      0.0800      0.0200      0.0000   \n",
       "75%   12,449.7500  2,010.0000      0.2400      0.1100      0.0400   \n",
       "max   16,600.0000  2,020.0000     41.4900     29.0200     10.2200   \n",
       "\n",
       "       Other_Sales  Global_Sales  \n",
       "count  16,598.0000   16,598.0000  \n",
       "mean        0.0481        0.5374  \n",
       "std         0.1886        1.5550  \n",
       "min         0.0000        0.0100  \n",
       "25%         0.0000        0.0600  \n",
       "50%         0.0100        0.1700  \n",
       "75%         0.0400        0.4700  \n",
       "max        10.5700       82.7400  "
      ]
     },
     "execution_count": 6,
     "metadata": {},
     "output_type": "execute_result"
    }
   ],
   "source": [
    "# use function to describe the numeric columns\n",
    "df.describe()"
   ]
  },
  {
   "cell_type": "markdown",
   "metadata": {},
   "source": [
    "<p style='margin:0;font-size:1.92rem;padding:.5vh 0;'>\n",
    "    I think looking at the data above I can start formulating some questions, so I can then move to a more focused data preparation.\n",
    "</p>"
   ]
  },
  {
   "cell_type": "markdown",
   "metadata": {},
   "source": [
    "<a id='bu'></a>\n",
    "<h1 style='margin:0'>Business Understanding</h1>"
   ]
  },
  {
   "cell_type": "markdown",
   "metadata": {},
   "source": [
    "<h2 style='margin:0 0 0 30px'>Questions:</h2>\n",
    "<ul style='font-size:1.92rem; line-height:3.5vh; padding-left:4vw'>\n",
    "    <li>\n",
    "        What was the video game franchise with the most sucess? Were Nintendo franchises more successful than Xbox or Playstation franchises?\n",
    "        <ul>\n",
    "            <li>\n",
    "                Here we can look into Sonic, Mario, EA Sports (various), Legends of Zelda, and exclusive titles for PlayStation and Xbox\n",
    "            </li>\n",
    "        </ul>\n",
    "    </li>\n",
    "    <li>\n",
    "        What was the video game manufacturer with the most success? Looking specifically into Nintendo, Sony and Microsoft\n",
    "    </li>\n",
    "    <li>\n",
    "        Were there preferences of console's manufacturer to play specific genres games? Or even within a manufacturer, were there platforms that had higher sales in a given genre?\n",
    "    </li>"
   ]
  },
  {
   "cell_type": "markdown",
   "metadata": {},
   "source": [
    "<a id='dp'></a>\n",
    "<h1 style='margin:0'>Data Preparation</h1>"
   ]
  },
  {
   "cell_type": "markdown",
   "metadata": {},
   "source": [
    "<h2 style='margin:0 0 0 30px'>Checking Missing Data</h2>"
   ]
  },
  {
   "cell_type": "code",
   "execution_count": 10,
   "metadata": {},
   "outputs": [
    {
     "data": {
      "text/plain": [
       "<AxesSubplot:>"
      ]
     },
     "execution_count": 10,
     "metadata": {},
     "output_type": "execute_result"
    },
    {
     "data": {
      "image/png": "[encoded data removed]",
      "text/plain": [
       "<Figure size 1800x720 with 2 Axes>"
      ]
     },
     "metadata": {
      "needs_background": "light"
     },
     "output_type": "display_data"
    }
   ],
   "source": [
    "import missingno as msno\n",
    "%matplotlib inline\n",
    "msno.matrix(df)"
   ]
  },
  {
   "cell_type": "code",
   "execution_count": 11,
   "metadata": {},
   "outputs": [
    {
     "data": {
      "text/plain": [
       "<AxesSubplot:>"
      ]
     },
     "execution_count": 11,
     "metadata": {},
     "output_type": "execute_result"
    },
    {
     "data": {
      "image/png": "[encoded data removed]",
      "text/plain": [
       "<Figure size 1800x720 with 1 Axes>"
      ]
     },
     "metadata": {
      "needs_background": "light"
     },
     "output_type": "display_data"
    }
   ],
   "source": [
    "msno.dendrogram(df)"
   ]
  },
  {
   "cell_type": "code",
   "execution_count": 16,
   "metadata": {},
   "outputs": [
    {
     "data": {
      "text/plain": [
       "Rank           0.0000\n",
       "Name           0.0000\n",
       "Platform       0.0000\n",
       "Year           0.0163\n",
       "Genre          0.0000\n",
       "Publisher      0.0035\n",
       "NA_Sales       0.0000\n",
       "EU_Sales       0.0000\n",
       "JP_Sales       0.0000\n",
       "Other_Sales    0.0000\n",
       "Global_Sales   0.0000\n",
       "dtype: float64"
      ]
     },
     "execution_count": 16,
     "metadata": {},
     "output_type": "execute_result"
    }
   ],
   "source": [
    "df.isnull().sum()/df.shape[0]"
   ]
  },
  {
   "cell_type": "markdown",
   "metadata": {},
   "source": [
    "<p style='margin:0;font-size:1.92rem;padding:.5vh 3vw;line-height:2.8rem'>\n",
    "    From both charts above and the percentage of nulls per column, there are just a few columns that have a few nans, so it'd easier to just drop those rows. But I'll also check for sales on those rows, because if it's high it could higly impact the analysis, even if it's just a few rows\n",
    "</p>"
   ]
  },
  {
   "cell_type": "code",
   "execution_count": 58,
   "metadata": {},
   "outputs": [],
   "source": [
    "df_nulls_sales = pd.concat([\n",
    "    df[np.any(df.isnull(), axis=1)].iloc[:,-5:].sum(), \n",
    "    df.iloc[:,-5:].sum(),\n",
    "    df.groupby('Year', as_index = False).agg({x:sum for x in df.columns if re.match(r'.*Sales.*', x)}).iloc[:,-5:].mean()], \n",
    "    axis = 1\n",
    ").set_axis(['nulls', 'total_sum', 'total_avg'], axis = 1)"
   ]
  },
  {
   "cell_type": "code",
   "execution_count": 59,
   "metadata": {},
   "outputs": [
    {
     "data": {
      "text/html": [
       "<div>\n",
       "<style scoped>\n",
       "    .dataframe tbody tr th:only-of-type {\n",
       "        vertical-align: middle;\n",
       "    }\n",
       "\n",
       "    .dataframe tbody tr th {\n",
       "        vertical-align: top;\n",
       "    }\n",
       "\n",
       "    .dataframe thead th {\n",
       "        text-align: right;\n",
       "    }\n",
       "</style>\n",
       "<table border=\"1\" class=\"dataframe\">\n",
       "  <thead>\n",
       "    <tr style=\"text-align: right;\">\n",
       "      <th></th>\n",
       "      <th>nulls</th>\n",
       "      <th>total_sum</th>\n",
       "      <th>total_avg</th>\n",
       "      <th>nulls_vs_total_sum</th>\n",
       "      <th>nulls_vs_total_avg</th>\n",
       "    </tr>\n",
       "  </thead>\n",
       "  <tbody>\n",
       "    <tr>\n",
       "      <th>NA_Sales</th>\n",
       "      <td>65.3000</td>\n",
       "      <td>4,392.9500</td>\n",
       "      <td>111.1136</td>\n",
       "      <td>0.0149</td>\n",
       "      <td>0.5877</td>\n",
       "    </tr>\n",
       "    <tr>\n",
       "      <th>EU_Sales</th>\n",
       "      <td>27.4400</td>\n",
       "      <td>2,434.1300</td>\n",
       "      <td>61.7723</td>\n",
       "      <td>0.0113</td>\n",
       "      <td>0.4442</td>\n",
       "    </tr>\n",
       "    <tr>\n",
       "      <th>JP_Sales</th>\n",
       "      <td>6.7500</td>\n",
       "      <td>1,291.0200</td>\n",
       "      <td>32.9308</td>\n",
       "      <td>0.0052</td>\n",
       "      <td>0.2050</td>\n",
       "    </tr>\n",
       "    <tr>\n",
       "      <th>Other_Sales</th>\n",
       "      <td>8.8400</td>\n",
       "      <td>797.7500</td>\n",
       "      <td>20.2310</td>\n",
       "      <td>0.0111</td>\n",
       "      <td>0.4370</td>\n",
       "    </tr>\n",
       "    <tr>\n",
       "      <th>Global_Sales</th>\n",
       "      <td>108.4700</td>\n",
       "      <td>8,920.4400</td>\n",
       "      <td>226.1631</td>\n",
       "      <td>0.0122</td>\n",
       "      <td>0.4796</td>\n",
       "    </tr>\n",
       "  </tbody>\n",
       "</table>\n",
       "</div>"
      ],
      "text/plain": [
       "                nulls  total_sum  total_avg  nulls_vs_total_sum  \\\n",
       "NA_Sales      65.3000 4,392.9500   111.1136              0.0149   \n",
       "EU_Sales      27.4400 2,434.1300    61.7723              0.0113   \n",
       "JP_Sales       6.7500 1,291.0200    32.9308              0.0052   \n",
       "Other_Sales    8.8400   797.7500    20.2310              0.0111   \n",
       "Global_Sales 108.4700 8,920.4400   226.1631              0.0122   \n",
       "\n",
       "              nulls_vs_total_avg  \n",
       "NA_Sales                  0.5877  \n",
       "EU_Sales                  0.4442  \n",
       "JP_Sales                  0.2050  \n",
       "Other_Sales               0.4370  \n",
       "Global_Sales              0.4796  "
      ]
     },
     "execution_count": 59,
     "metadata": {},
     "output_type": "execute_result"
    }
   ],
   "source": [
    "df_nulls_sales.loc[:, 'nulls_vs_total_sum'] = df_nulls_sales.nulls / df_nulls_sales.total_sum\n",
    "df_nulls_sales.loc[:, 'nulls_vs_total_avg'] = df_nulls_sales.nulls / df_nulls_sales.total_avg\n",
    "df_nulls_sales"
   ]
  },
  {
   "cell_type": "markdown",
   "metadata": {},
   "source": [
    "<p style='margin:0;font-size:1.92rem;padding:.5vh 3vw; line-height: 2.8rem'>\n",
    "    From the results above, it seems that the sales of the rows that contain nulls are not relevant to the total. However, if they are concentrated in a year, it could do a big difference for that year (looking at the yearly average sales). So it would be best to try to fill those rows with information\n",
    "</p>"
   ]
  }
 ],
 "metadata": {
  "kernelspec": {
   "display_name": "Python 3",
   "language": "python",
   "name": "python3"
  },
  "language_info": {
   "codemirror_mode": {
    "name": "ipython",
    "version": 3
   },
   "file_extension": ".py",
   "mimetype": "text/x-python",
   "name": "python",
   "nbconvert_exporter": "python",
   "pygments_lexer": "ipython3",
   "version": "3.8.3"
  }
 },
 "nbformat": 4,
 "nbformat_minor": 4
}
